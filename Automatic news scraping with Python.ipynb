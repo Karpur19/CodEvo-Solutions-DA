{
 "cells": [
  {
   "cell_type": "code",
   "execution_count": null,
   "id": "8036923c-3b0e-4ddf-8552-5e5673a5bbd0",
   "metadata": {},
   "outputs": [],
   "source": [
    "Task 2: Automatic news scraping with Python\n",
    "\n",
    "Set Up the Environment: Install necessary libraries such as newspaper3k and feedparser.\n",
    "Extract Data: Parse RSS feeds and extract relevant information like title, author, and published date using feedparser. \n",
    "Use newspaper3k to extract full article content from the URLs. \n",
    "Organize Data: Store the extracted data in a structured format (e.g., a CSV file). \n",
    "Summarize and Save: Summarize the articles and save them as a text file or back to the CSV."
   ]
  },
  {
   "cell_type": "code",
   "execution_count": 2,
   "id": "3c8d8960-5022-4e95-888c-bac94ceabcfe",
   "metadata": {},
   "outputs": [
    {
     "name": "stdout",
     "output_type": "stream",
     "text": [
      "Collecting feedparser\n",
      "  Downloading feedparser-6.0.11-py3-none-any.whl.metadata (2.4 kB)\n",
      "Collecting sgmllib3k (from feedparser)\n",
      "  Downloading sgmllib3k-1.0.0.tar.gz (5.8 kB)\n",
      "  Preparing metadata (setup.py): started\n",
      "  Preparing metadata (setup.py): finished with status 'done'\n",
      "Downloading feedparser-6.0.11-py3-none-any.whl (81 kB)\n",
      "   ---------------------------------------- 0.0/81.3 kB ? eta -:--:--\n",
      "   ----- ---------------------------------- 10.2/81.3 kB ? eta -:--:--\n",
      "   ---------------------------------------- 81.3/81.3 kB 1.5 MB/s eta 0:00:00\n",
      "Building wheels for collected packages: sgmllib3k\n",
      "  Building wheel for sgmllib3k (setup.py): started\n",
      "  Building wheel for sgmllib3k (setup.py): finished with status 'done'\n",
      "  Created wheel for sgmllib3k: filename=sgmllib3k-1.0.0-py3-none-any.whl size=6061 sha256=bc9eea7f9f6300d791fb0b8c9b058bcbbe373757a00394ea7878b740f0b95cee\n",
      "  Stored in directory: c:\\users\\karpu\\appdata\\local\\pip\\cache\\wheels\\3b\\25\\2a\\105d6a15df6914f4d15047691c6c28f9052cc1173e40285d03\n",
      "Successfully built sgmllib3k\n",
      "Installing collected packages: sgmllib3k, feedparser\n",
      "Successfully installed feedparser-6.0.11 sgmllib3k-1.0.0\n"
     ]
    }
   ],
   "source": [
    "!pip install feedparser"
   ]
  },
  {
   "cell_type": "code",
   "execution_count": 4,
   "id": "1dee97bb-f2dd-4911-8177-2affea174083",
   "metadata": {},
   "outputs": [
    {
     "name": "stdout",
     "output_type": "stream",
     "text": [
      "Collecting newspaper3k\n",
      "  Downloading newspaper3k-0.2.8-py3-none-any.whl.metadata (11 kB)\n",
      "Requirement already satisfied: beautifulsoup4>=4.4.1 in c:\\users\\karpu\\anaconda3\\lib\\site-packages (from newspaper3k) (4.12.2)\n",
      "Requirement already satisfied: Pillow>=3.3.0 in c:\\users\\karpu\\anaconda3\\lib\\site-packages (from newspaper3k) (10.2.0)\n",
      "Requirement already satisfied: PyYAML>=3.11 in c:\\users\\karpu\\anaconda3\\lib\\site-packages (from newspaper3k) (6.0.1)\n",
      "Requirement already satisfied: cssselect>=0.9.2 in c:\\users\\karpu\\anaconda3\\lib\\site-packages (from newspaper3k) (1.2.0)\n",
      "Requirement already satisfied: lxml>=3.6.0 in c:\\users\\karpu\\anaconda3\\lib\\site-packages (from newspaper3k) (5.1.0)\n",
      "Requirement already satisfied: nltk>=3.2.1 in c:\\users\\karpu\\anaconda3\\lib\\site-packages (from newspaper3k) (3.8.1)\n",
      "Requirement already satisfied: requests>=2.10.0 in c:\\users\\karpu\\anaconda3\\lib\\site-packages (from newspaper3k) (2.31.0)\n",
      "Requirement already satisfied: feedparser>=5.2.1 in c:\\users\\karpu\\anaconda3\\lib\\site-packages (from newspaper3k) (6.0.11)\n",
      "Requirement already satisfied: tldextract>=2.0.1 in c:\\users\\karpu\\anaconda3\\lib\\site-packages (from newspaper3k) (3.2.0)\n",
      "Collecting feedfinder2>=0.0.4 (from newspaper3k)\n",
      "  Downloading feedfinder2-0.0.4.tar.gz (3.3 kB)\n",
      "  Preparing metadata (setup.py): started\n",
      "  Preparing metadata (setup.py): finished with status 'done'\n",
      "Collecting jieba3k>=0.35.1 (from newspaper3k)\n",
      "  Downloading jieba3k-0.35.1.zip (7.4 MB)\n",
      "     ---------------------------------------- 0.0/7.4 MB ? eta -:--:--\n",
      "     ---------------------------------------- 0.0/7.4 MB 991.0 kB/s eta 0:00:08\n",
      "     -- ------------------------------------- 0.5/7.4 MB 5.6 MB/s eta 0:00:02\n",
      "     ------ --------------------------------- 1.2/7.4 MB 9.4 MB/s eta 0:00:01\n",
      "     ---------- ----------------------------- 2.0/7.4 MB 11.6 MB/s eta 0:00:01\n",
      "     ----------- ---------------------------- 2.2/7.4 MB 10.1 MB/s eta 0:00:01\n",
      "     ------------- -------------------------- 2.5/7.4 MB 10.1 MB/s eta 0:00:01\n",
      "     -------------- ------------------------- 2.8/7.4 MB 9.3 MB/s eta 0:00:01\n",
      "     ---------------- ----------------------- 3.1/7.4 MB 8.6 MB/s eta 0:00:01\n",
      "     ----------------- ---------------------- 3.2/7.4 MB 7.9 MB/s eta 0:00:01\n",
      "     ------------------ --------------------- 3.4/7.4 MB 7.4 MB/s eta 0:00:01\n",
      "     ------------------- -------------------- 3.5/7.4 MB 7.1 MB/s eta 0:00:01\n",
      "     -------------------- ------------------- 3.8/7.4 MB 6.9 MB/s eta 0:00:01\n",
      "     --------------------- ------------------ 4.0/7.4 MB 7.0 MB/s eta 0:00:01\n",
      "     ----------------------- ---------------- 4.3/7.4 MB 6.8 MB/s eta 0:00:01\n",
      "     ------------------------ --------------- 4.6/7.4 MB 6.8 MB/s eta 0:00:01\n",
      "     -------------------------- ------------- 4.9/7.4 MB 6.8 MB/s eta 0:00:01\n",
      "     --------------------------- ------------ 5.1/7.4 MB 6.7 MB/s eta 0:00:01\n",
      "     ----------------------------- ---------- 5.5/7.4 MB 6.8 MB/s eta 0:00:01\n",
      "     -------------------------------- ------- 6.0/7.4 MB 7.0 MB/s eta 0:00:01\n",
      "     ---------------------------------- ----- 6.5/7.4 MB 7.1 MB/s eta 0:00:01\n",
      "     ------------------------------------ --- 6.8/7.4 MB 7.1 MB/s eta 0:00:01\n",
      "     -------------------------------------- - 7.1/7.4 MB 7.0 MB/s eta 0:00:01\n",
      "     ---------------------------------------  7.3/7.4 MB 6.9 MB/s eta 0:00:01\n",
      "     ---------------------------------------  7.4/7.4 MB 6.9 MB/s eta 0:00:01\n",
      "     ---------------------------------------- 7.4/7.4 MB 6.7 MB/s eta 0:00:00\n",
      "  Preparing metadata (setup.py): started\n",
      "  Preparing metadata (setup.py): finished with status 'done'\n",
      "Requirement already satisfied: python-dateutil>=2.5.3 in c:\\users\\karpu\\anaconda3\\lib\\site-packages (from newspaper3k) (2.8.2)\n",
      "Collecting tinysegmenter==0.3 (from newspaper3k)\n",
      "  Downloading tinysegmenter-0.3.tar.gz (16 kB)\n",
      "  Preparing metadata (setup.py): started\n",
      "  Preparing metadata (setup.py): finished with status 'done'\n",
      "Requirement already satisfied: soupsieve>1.2 in c:\\users\\karpu\\anaconda3\\lib\\site-packages (from beautifulsoup4>=4.4.1->newspaper3k) (2.5)\n",
      "Requirement already satisfied: six in c:\\users\\karpu\\anaconda3\\lib\\site-packages (from feedfinder2>=0.0.4->newspaper3k) (1.16.0)\n",
      "Requirement already satisfied: sgmllib3k in c:\\users\\karpu\\anaconda3\\lib\\site-packages (from feedparser>=5.2.1->newspaper3k) (1.0.0)\n",
      "Requirement already satisfied: click in c:\\users\\karpu\\anaconda3\\lib\\site-packages (from nltk>=3.2.1->newspaper3k) (8.1.7)\n",
      "Requirement already satisfied: joblib in c:\\users\\karpu\\anaconda3\\lib\\site-packages (from nltk>=3.2.1->newspaper3k) (1.2.0)\n",
      "Requirement already satisfied: regex>=2021.8.3 in c:\\users\\karpu\\anaconda3\\lib\\site-packages (from nltk>=3.2.1->newspaper3k) (2023.10.3)\n",
      "Requirement already satisfied: tqdm in c:\\users\\karpu\\anaconda3\\lib\\site-packages (from nltk>=3.2.1->newspaper3k) (4.65.0)\n",
      "Requirement already satisfied: charset-normalizer<4,>=2 in c:\\users\\karpu\\anaconda3\\lib\\site-packages (from requests>=2.10.0->newspaper3k) (2.0.4)\n",
      "Requirement already satisfied: idna<4,>=2.5 in c:\\users\\karpu\\anaconda3\\lib\\site-packages (from requests>=2.10.0->newspaper3k) (3.4)\n",
      "Requirement already satisfied: urllib3<3,>=1.21.1 in c:\\users\\karpu\\anaconda3\\lib\\site-packages (from requests>=2.10.0->newspaper3k) (2.0.7)\n",
      "Requirement already satisfied: certifi>=2017.4.17 in c:\\users\\karpu\\anaconda3\\lib\\site-packages (from requests>=2.10.0->newspaper3k) (2024.8.30)\n",
      "Requirement already satisfied: requests-file>=1.4 in c:\\users\\karpu\\anaconda3\\lib\\site-packages (from tldextract>=2.0.1->newspaper3k) (1.5.1)\n",
      "Requirement already satisfied: filelock>=3.0.8 in c:\\users\\karpu\\anaconda3\\lib\\site-packages (from tldextract>=2.0.1->newspaper3k) (3.13.1)\n",
      "Requirement already satisfied: colorama in c:\\users\\karpu\\anaconda3\\lib\\site-packages (from click->nltk>=3.2.1->newspaper3k) (0.4.6)\n",
      "Downloading newspaper3k-0.2.8-py3-none-any.whl (211 kB)\n",
      "   ---------------------------------------- 0.0/211.1 kB ? eta -:--:--\n",
      "   --------------------- ------------------ 112.6/211.1 kB 3.3 MB/s eta 0:00:01\n",
      "   ---------------------------------------- 211.1/211.1 kB 3.2 MB/s eta 0:00:00\n",
      "Building wheels for collected packages: tinysegmenter, feedfinder2, jieba3k\n",
      "  Building wheel for tinysegmenter (setup.py): started\n",
      "  Building wheel for tinysegmenter (setup.py): finished with status 'done'\n",
      "  Created wheel for tinysegmenter: filename=tinysegmenter-0.3-py3-none-any.whl size=13567 sha256=5efad99429a6d9f83dfae22ecd5c7a04a643a16f6d8459d6a0bc641d4694e820\n",
      "  Stored in directory: c:\\users\\karpu\\appdata\\local\\pip\\cache\\wheels\\fc\\ab\\f8\\cce3a9ae6d828bd346be695f7ff54612cd22b7cbd7208d68f3\n",
      "  Building wheel for feedfinder2 (setup.py): started\n",
      "  Building wheel for feedfinder2 (setup.py): finished with status 'done'\n",
      "  Created wheel for feedfinder2: filename=feedfinder2-0.0.4-py3-none-any.whl size=3357 sha256=9611dcd09e7549cbf7a3dcd4ef3d7bc453533b9542257b0d4baae12718bdc1c7\n",
      "  Stored in directory: c:\\users\\karpu\\appdata\\local\\pip\\cache\\wheels\\80\\d5\\72\\9cd9eccc819636436c6a6e59c22a0fb1ec167beef141f56491\n",
      "  Building wheel for jieba3k (setup.py): started\n",
      "  Building wheel for jieba3k (setup.py): finished with status 'done'\n",
      "  Created wheel for jieba3k: filename=jieba3k-0.35.1-py3-none-any.whl size=7398387 sha256=2e233b542679f9952cea4a3f92e375ae55bbe0c51ebe440004a9531e66d17a76\n",
      "  Stored in directory: c:\\users\\karpu\\appdata\\local\\pip\\cache\\wheels\\3a\\a1\\46\\8e68055c1713f9c4598774c15ad0541f26d5425ee7423b6493\n",
      "Successfully built tinysegmenter feedfinder2 jieba3k\n",
      "Installing collected packages: tinysegmenter, jieba3k, feedfinder2, newspaper3k\n",
      "Successfully installed feedfinder2-0.0.4 jieba3k-0.35.1 newspaper3k-0.2.8 tinysegmenter-0.3\n"
     ]
    }
   ],
   "source": [
    "!pip install newspaper3k"
   ]
  },
  {
   "cell_type": "code",
   "execution_count": 5,
   "id": "bedba9ed-c827-4d56-bc7e-3d4b84c77222",
   "metadata": {},
   "outputs": [],
   "source": [
    "import feedparser\n",
    "from newspaper import Article\n",
    "import pandas as pd\n",
    "\n",
    "# Parse RSS feed\n",
    "rss_url = 'http://rss.cnn.com/rss/cnn_topstories.rss'\n",
    "feed = feedparser.parse(rss_url)\n",
    "\n",
    "# Extract articles\n",
    "articles = []\n",
    "for entry in feed.entries[:5]:\n",
    "    article = Article(entry.link)\n",
    "    article.download()\n",
    "    article.parse()\n",
    "    articles.append({\n",
    "        'title': article.title,\n",
    "        'author': article.authors,\n",
    "        'publish_date': article.publish_date,\n",
    "        'content': article.text\n",
    "    })\n",
    "\n",
    "# Save to CSV\n",
    "articles_df = pd.DataFrame(articles)\n",
    "articles_df.to_csv('news_articles.csv', index=False)\n"
   ]
  },
  {
   "cell_type": "code",
   "execution_count": 6,
   "id": "d461b779-c227-4ab4-ad8c-ce768ecefda8",
   "metadata": {},
   "outputs": [
    {
     "name": "stdout",
     "output_type": "stream",
     "text": [
      "                                               title  \\\n",
      "0      Settlement reached in Fox vs Dominion lawsuit   \n",
      "1      Settlement reached in Fox vs Dominion lawsuit   \n",
      "2  Here are the 20 specific Fox broadcasts and tw...   \n",
      "3  Fox News settles with Dominion at the last sec...   \n",
      "4  ‘Difficult to say with a straight face’: Tappe...   \n",
      "\n",
      "                                              author  \\\n",
      "0  [Catherine Thorbecke Mike Hayes Maureen Chowdh...   \n",
      "1  [Catherine Thorbecke Mike Hayes Maureen Chowdh...   \n",
      "2  [Eric Levenson Marshall Cohen, Eric Levenson, ...   \n",
      "3  [Marshall Cohen Oliver Darcy, Marshall Cohen, ...   \n",
      "4                                                 []   \n",
      "\n",
      "                publish_date  \\\n",
      "0  2023-04-18 15:02:55+00:00   \n",
      "1  2023-04-18 15:02:55+00:00   \n",
      "2        2023-04-17 00:00:00   \n",
      "3        2023-04-18 00:00:00   \n",
      "4        2023-04-18 00:00:00   \n",
      "\n",
      "                                             content  \n",
      "0  Members of the public wait to enter the Leonar...  \n",
      "1  Members of the public wait to enter the Leonar...  \n",
      "2  CNN —\\n\\nFor all the interest in big-name witn...  \n",
      "3  Wilmington, Delaware CNN —\\n\\nFox News reached...  \n",
      "4  1. How relevant is this ad to you?\\n\\nVideo pl...  \n"
     ]
    }
   ],
   "source": [
    "print(articles_df)"
   ]
  }
 ],
 "metadata": {
  "kernelspec": {
   "display_name": "Python 3 (ipykernel)",
   "language": "python",
   "name": "python3"
  },
  "language_info": {
   "codemirror_mode": {
    "name": "ipython",
    "version": 3
   },
   "file_extension": ".py",
   "mimetype": "text/x-python",
   "name": "python",
   "nbconvert_exporter": "python",
   "pygments_lexer": "ipython3",
   "version": "3.11.7"
  }
 },
 "nbformat": 4,
 "nbformat_minor": 5
}
